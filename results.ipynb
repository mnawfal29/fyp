{
 "cells": [
  {
   "cell_type": "code",
   "execution_count": 1,
   "metadata": {},
   "outputs": [],
   "source": [
    "import json"
   ]
  },
  {
   "cell_type": "code",
   "execution_count": 14,
   "metadata": {},
   "outputs": [],
   "source": [
    "def get_results(file):\n",
    "    with open(file) as f:\n",
    "        data = json.load(f)\n",
    "    d = {}\n",
    "    for k, v in data['Acc'].items():\n",
    "        if len(k.split('/'))==3:\n",
    "            d[k] = v\n",
    "        if k == \"AvgAcc\":\n",
    "            d[k] = v\n",
    "    return {k:v*100 for k,v in zip(range(len(d)), d.values())}"
   ]
  },
  {
   "cell_type": "code",
   "execution_count": 15,
   "metadata": {},
   "outputs": [],
   "source": [
    "filenames = [f\"results\\model_cifar100_L_g_{i}_L_s_{i}_D_g_{j}_D_s_{12-j}_run_0.json\" for i in [2, 4] for j in range(2, 11, 2)]"
   ]
  },
  {
   "cell_type": "code",
   "execution_count": 16,
   "metadata": {},
   "outputs": [
    {
     "name": "stdout",
     "output_type": "stream",
     "text": [
      "results\\model_cifar100_L_g_2_L_s_2_D_g_2_D_s_10_run_0.json {0: 89.01666666666667, 1: 86.93846153846154, 2: 85.61428571428571, 3: 83.46666666666667, 4: 83.0125, 5: 82.54117647058824, 6: 82.19999999999999, 7: 81.35789473684211, 8: 80.08, 9: 83.38472222222222}\n",
      "results\\model_cifar100_L_g_2_L_s_2_D_g_4_D_s_8_run_0.json {0: 88.76666666666667, 1: 87.23076923076924, 2: 86.18571428571428, 3: 83.66666666666667, 4: 83.2375, 5: 82.88235294117648, 6: 82.52222222222223, 7: 81.70526315789473, 8: 80.62, 9: 83.69305555555555}\n",
      "results\\model_cifar100_L_g_2_L_s_2_D_g_6_D_s_6_run_0.json {0: 88.91666666666667, 1: 87.12307692307692, 2: 85.74285714285715, 3: 83.10666666666665, 4: 82.39999999999999, 5: 82.19999999999999, 6: 82.17777777777778, 7: 81.4421052631579, 8: 80.23, 9: 83.28888888888889}\n",
      "results\\model_cifar100_L_g_2_L_s_2_D_g_8_D_s_4_run_0.json {0: 88.66666666666667, 1: 86.8, 2: 85.48571428571428, 3: 82.82666666666667, 4: 82.3125, 5: 81.7764705882353, 6: 81.62222222222222, 7: 80.74736842105264, 8: 79.31, 9: 82.83611111111111}\n",
      "results\\model_cifar100_L_g_2_L_s_2_D_g_10_D_s_2_run_0.json {0: 88.76666666666667, 1: 87.38461538461539, 2: 86.12857142857143, 3: 83.54666666666667, 4: 82.8625, 5: 82.54117647058824, 6: 82.26666666666667, 7: 81.36842105263158, 8: 80.32000000000001, 9: 83.4888888888889}\n",
      "results\\model_cifar100_L_g_4_L_s_4_D_g_2_D_s_10_run_0.json {0: 88.43333333333334, 1: 86.16923076923077, 2: 85.15714285714286, 3: 82.72, 4: 82.1875, 5: 81.98823529411766, 6: 81.68888888888888, 7: 80.91578947368421, 8: 79.66, 9: 82.80694444444444}\n",
      "results\\model_cifar100_L_g_4_L_s_4_D_g_4_D_s_8_run_0.json {0: 88.8, 1: 86.84615384615385, 2: 85.82857142857144, 3: 83.25333333333333, 4: 82.775, 5: 82.43529411764706, 6: 82.12222222222222, 7: 81.54736842105264, 8: 80.27, 9: 83.35972222222222}\n",
      "results\\model_cifar100_L_g_4_L_s_4_D_g_6_D_s_6_run_0.json {0: 89.05, 1: 87.1076923076923, 2: 85.97142857142858, 3: 83.62666666666667, 4: 83.3125, 5: 83.03529411764707, 6: 82.78888888888889, 7: 81.96842105263158, 8: 80.89, 9: 83.8125}\n",
      "results\\model_cifar100_L_g_4_L_s_4_D_g_8_D_s_4_run_0.json {0: 88.75, 1: 86.98461538461538, 2: 85.8, 3: 83.32000000000001, 4: 83.1, 5: 82.69411764705883, 6: 82.46666666666667, 7: 81.76842105263158, 8: 80.69, 9: 83.56944444444444}\n"
     ]
    },
    {
     "ename": "FileNotFoundError",
     "evalue": "[Errno 2] No such file or directory: 'results\\\\model_cifar100_L_g_4_L_s_4_D_g_10_D_s_2_run_0.json'",
     "output_type": "error",
     "traceback": [
      "\u001b[31m---------------------------------------------------------------------------\u001b[39m",
      "\u001b[31mFileNotFoundError\u001b[39m                         Traceback (most recent call last)",
      "\u001b[36mCell\u001b[39m\u001b[36m \u001b[39m\u001b[32mIn[16]\u001b[39m\u001b[32m, line 2\u001b[39m\n\u001b[32m      1\u001b[39m \u001b[38;5;28;01mfor\u001b[39;00m i \u001b[38;5;129;01min\u001b[39;00m filenames:\n\u001b[32m----> \u001b[39m\u001b[32m2\u001b[39m     \u001b[38;5;28mprint\u001b[39m(i, \u001b[43mget_results\u001b[49m\u001b[43m(\u001b[49m\u001b[43mi\u001b[49m\u001b[43m)\u001b[49m)\n",
      "\u001b[36mCell\u001b[39m\u001b[36m \u001b[39m\u001b[32mIn[14]\u001b[39m\u001b[32m, line 2\u001b[39m, in \u001b[36mget_results\u001b[39m\u001b[34m(file)\u001b[39m\n\u001b[32m      1\u001b[39m \u001b[38;5;28;01mdef\u001b[39;00m\u001b[38;5;250m \u001b[39m\u001b[34mget_results\u001b[39m(file):\n\u001b[32m----> \u001b[39m\u001b[32m2\u001b[39m     \u001b[38;5;28;01mwith\u001b[39;00m \u001b[38;5;28;43mopen\u001b[39;49m\u001b[43m(\u001b[49m\u001b[43mfile\u001b[49m\u001b[43m)\u001b[49m \u001b[38;5;28;01mas\u001b[39;00m f:\n\u001b[32m      3\u001b[39m         data = json.load(f)\n\u001b[32m      4\u001b[39m     d = {}\n",
      "\u001b[36mFile \u001b[39m\u001b[32mc:\\Users\\muhdn\\miniconda3\\envs\\fyp\\Lib\\site-packages\\IPython\\core\\interactiveshell.py:325\u001b[39m, in \u001b[36m_modified_open\u001b[39m\u001b[34m(file, *args, **kwargs)\u001b[39m\n\u001b[32m    318\u001b[39m \u001b[38;5;28;01mif\u001b[39;00m file \u001b[38;5;129;01min\u001b[39;00m {\u001b[32m0\u001b[39m, \u001b[32m1\u001b[39m, \u001b[32m2\u001b[39m}:\n\u001b[32m    319\u001b[39m     \u001b[38;5;28;01mraise\u001b[39;00m \u001b[38;5;167;01mValueError\u001b[39;00m(\n\u001b[32m    320\u001b[39m         \u001b[33mf\u001b[39m\u001b[33m\"\u001b[39m\u001b[33mIPython won\u001b[39m\u001b[33m'\u001b[39m\u001b[33mt let you open fd=\u001b[39m\u001b[38;5;132;01m{\u001b[39;00mfile\u001b[38;5;132;01m}\u001b[39;00m\u001b[33m by default \u001b[39m\u001b[33m\"\u001b[39m\n\u001b[32m    321\u001b[39m         \u001b[33m\"\u001b[39m\u001b[33mas it is likely to crash IPython. If you know what you are doing, \u001b[39m\u001b[33m\"\u001b[39m\n\u001b[32m    322\u001b[39m         \u001b[33m\"\u001b[39m\u001b[33myou can use builtins\u001b[39m\u001b[33m'\u001b[39m\u001b[33m open.\u001b[39m\u001b[33m\"\u001b[39m\n\u001b[32m    323\u001b[39m     )\n\u001b[32m--> \u001b[39m\u001b[32m325\u001b[39m \u001b[38;5;28;01mreturn\u001b[39;00m \u001b[43mio_open\u001b[49m\u001b[43m(\u001b[49m\u001b[43mfile\u001b[49m\u001b[43m,\u001b[49m\u001b[43m \u001b[49m\u001b[43m*\u001b[49m\u001b[43margs\u001b[49m\u001b[43m,\u001b[49m\u001b[43m \u001b[49m\u001b[43m*\u001b[49m\u001b[43m*\u001b[49m\u001b[43mkwargs\u001b[49m\u001b[43m)\u001b[49m\n",
      "\u001b[31mFileNotFoundError\u001b[39m: [Errno 2] No such file or directory: 'results\\\\model_cifar100_L_g_4_L_s_4_D_g_10_D_s_2_run_0.json'"
     ]
    }
   ],
   "source": [
    "for i in filenames:\n",
    "    print(i, get_results(i))"
   ]
  },
  {
   "cell_type": "code",
   "execution_count": null,
   "metadata": {},
   "outputs": [],
   "source": []
  }
 ],
 "metadata": {
  "kernelspec": {
   "display_name": "fyp",
   "language": "python",
   "name": "python3"
  },
  "language_info": {
   "codemirror_mode": {
    "name": "ipython",
    "version": 3
   },
   "file_extension": ".py",
   "mimetype": "text/x-python",
   "name": "python",
   "nbconvert_exporter": "python",
   "pygments_lexer": "ipython3",
   "version": "3.11.0"
  }
 },
 "nbformat": 4,
 "nbformat_minor": 2
}
